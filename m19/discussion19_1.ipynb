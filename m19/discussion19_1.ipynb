{
 "cells": [
  {
   "attachments": {},
   "cell_type": "markdown",
   "metadata": {},
   "source": [
    "### Required Discussion 19:1: Building a Recommender System with SURPRISE\n",
    "\n",
    "This discussion focuses on exploring additional algorithms with the `Suprise` library to generate recommendations.  Your goal is to identify the optimal algorithm by minimizing the mean squared error using cross validation. You are also going to select a dataset to use from [grouplens](https://grouplens.org/datasets/movielens/) example datasets.  \n",
    "\n",
    "To begin, head over to [grouplens](https://grouplens.org/datasets/movielens/) and examine the different datasets available.  Choose one so that it is easy to create the data as expected in `Surprise` with user, item, and rating information.  Then, compare the performance of at least the `KNNBasic`, `SVD`, `NMF`, `SlopeOne`, and `CoClustering` algorithms to build your recommendations.  For more information on the algorithms see the documentation for the algorithm package [here](https://surprise.readthedocs.io/en/stable/prediction_algorithms_package.html).\n",
    "\n",
    "Share the results of your investigation and include the results of your cross validation and a basic description of your dataset with your peers.\n"
   ]
  },
  {
   "cell_type": "code",
   "execution_count": 1,
   "metadata": {},
   "outputs": [],
   "source": [
    "from surprise import Dataset, Reader, SVD, NMF, KNNBasic, SlopeOne, CoClustering\n",
    "from surprise.model_selection import cross_validate\n",
    "\n",
    "import pandas as pd"
   ]
  },
  {
   "cell_type": "code",
   "execution_count": 2,
   "metadata": {},
   "outputs": [
    {
     "name": "stdout",
     "output_type": "stream",
     "text": [
      "Dataset loaded: 262,144 ratings, 102,430 users, 16,462 movies\n"
     ]
    }
   ],
   "source": [
    "# Read the sampled ratings data and movies metadata\n",
    "ratings = pd.read_csv('data/ratings-256k.csv')\n",
    "movies = pd.read_csv('data/ml-32m/movies.csv')\n",
    "\n",
    "print(f\"Dataset loaded: {len(ratings):,} ratings, {ratings['userId'].nunique():,} users, {ratings['movieId'].nunique():,} movies\")"
   ]
  },
  {
   "cell_type": "code",
   "execution_count": 3,
   "metadata": {},
   "outputs": [
    {
     "name": "stdout",
     "output_type": "stream",
     "text": [
      "<class 'pandas.core.frame.DataFrame'>\n",
      "RangeIndex: 87585 entries, 0 to 87584\n",
      "Data columns (total 3 columns):\n",
      " #   Column   Non-Null Count  Dtype \n",
      "---  ------   --------------  ----- \n",
      " 0   movieId  87585 non-null  int64 \n",
      " 1   title    87585 non-null  object\n",
      " 2   genres   87585 non-null  object\n",
      "dtypes: int64(1), object(2)\n",
      "memory usage: 2.0+ MB\n"
     ]
    },
    {
     "data": {
      "text/html": [
       "<div>\n",
       "<style scoped>\n",
       "    .dataframe tbody tr th:only-of-type {\n",
       "        vertical-align: middle;\n",
       "    }\n",
       "\n",
       "    .dataframe tbody tr th {\n",
       "        vertical-align: top;\n",
       "    }\n",
       "\n",
       "    .dataframe thead th {\n",
       "        text-align: right;\n",
       "    }\n",
       "</style>\n",
       "<table border=\"1\" class=\"dataframe\">\n",
       "  <thead>\n",
       "    <tr style=\"text-align: right;\">\n",
       "      <th></th>\n",
       "      <th>movieId</th>\n",
       "    </tr>\n",
       "  </thead>\n",
       "  <tbody>\n",
       "    <tr>\n",
       "      <th>count</th>\n",
       "      <td>87585.000000</td>\n",
       "    </tr>\n",
       "    <tr>\n",
       "      <th>mean</th>\n",
       "      <td>157651.365519</td>\n",
       "    </tr>\n",
       "    <tr>\n",
       "      <th>std</th>\n",
       "      <td>79013.402099</td>\n",
       "    </tr>\n",
       "    <tr>\n",
       "      <th>min</th>\n",
       "      <td>1.000000</td>\n",
       "    </tr>\n",
       "    <tr>\n",
       "      <th>25%</th>\n",
       "      <td>112657.000000</td>\n",
       "    </tr>\n",
       "    <tr>\n",
       "      <th>50%</th>\n",
       "      <td>165741.000000</td>\n",
       "    </tr>\n",
       "    <tr>\n",
       "      <th>75%</th>\n",
       "      <td>213203.000000</td>\n",
       "    </tr>\n",
       "    <tr>\n",
       "      <th>max</th>\n",
       "      <td>292757.000000</td>\n",
       "    </tr>\n",
       "  </tbody>\n",
       "</table>\n",
       "</div>"
      ],
      "text/plain": [
       "             movieId\n",
       "count   87585.000000\n",
       "mean   157651.365519\n",
       "std     79013.402099\n",
       "min         1.000000\n",
       "25%    112657.000000\n",
       "50%    165741.000000\n",
       "75%    213203.000000\n",
       "max    292757.000000"
      ]
     },
     "execution_count": 3,
     "metadata": {},
     "output_type": "execute_result"
    }
   ],
   "source": [
    "movies.info()\n",
    "movies.describe()"
   ]
  },
  {
   "cell_type": "code",
   "execution_count": 4,
   "metadata": {},
   "outputs": [
    {
     "name": "stdout",
     "output_type": "stream",
     "text": [
      "<class 'pandas.core.frame.DataFrame'>\n",
      "RangeIndex: 262144 entries, 0 to 262143\n",
      "Data columns (total 4 columns):\n",
      " #   Column     Non-Null Count   Dtype  \n",
      "---  ------     --------------   -----  \n",
      " 0   userId     262144 non-null  int64  \n",
      " 1   movieId    262144 non-null  int64  \n",
      " 2   rating     262144 non-null  float64\n",
      " 3   timestamp  262144 non-null  int64  \n",
      "dtypes: float64(1), int64(3)\n",
      "memory usage: 8.0 MB\n"
     ]
    },
    {
     "data": {
      "text/html": [
       "<div>\n",
       "<style scoped>\n",
       "    .dataframe tbody tr th:only-of-type {\n",
       "        vertical-align: middle;\n",
       "    }\n",
       "\n",
       "    .dataframe tbody tr th {\n",
       "        vertical-align: top;\n",
       "    }\n",
       "\n",
       "    .dataframe thead th {\n",
       "        text-align: right;\n",
       "    }\n",
       "</style>\n",
       "<table border=\"1\" class=\"dataframe\">\n",
       "  <thead>\n",
       "    <tr style=\"text-align: right;\">\n",
       "      <th></th>\n",
       "      <th>userId</th>\n",
       "      <th>movieId</th>\n",
       "      <th>rating</th>\n",
       "      <th>timestamp</th>\n",
       "    </tr>\n",
       "  </thead>\n",
       "  <tbody>\n",
       "    <tr>\n",
       "      <th>count</th>\n",
       "      <td>262144.000000</td>\n",
       "      <td>262144.000000</td>\n",
       "      <td>262144.000000</td>\n",
       "      <td>2.621440e+05</td>\n",
       "    </tr>\n",
       "    <tr>\n",
       "      <th>mean</th>\n",
       "      <td>100180.841484</td>\n",
       "      <td>29166.701164</td>\n",
       "      <td>3.539732</td>\n",
       "      <td>1.274791e+09</td>\n",
       "    </tr>\n",
       "    <tr>\n",
       "      <th>std</th>\n",
       "      <td>57836.614843</td>\n",
       "      <td>50739.699581</td>\n",
       "      <td>1.059769</td>\n",
       "      <td>2.560741e+08</td>\n",
       "    </tr>\n",
       "    <tr>\n",
       "      <th>min</th>\n",
       "      <td>9.000000</td>\n",
       "      <td>1.000000</td>\n",
       "      <td>0.500000</td>\n",
       "      <td>8.231852e+08</td>\n",
       "    </tr>\n",
       "    <tr>\n",
       "      <th>25%</th>\n",
       "      <td>50092.000000</td>\n",
       "      <td>1230.000000</td>\n",
       "      <td>3.000000</td>\n",
       "      <td>1.050949e+09</td>\n",
       "    </tr>\n",
       "    <tr>\n",
       "      <th>50%</th>\n",
       "      <td>100024.000000</td>\n",
       "      <td>3439.000000</td>\n",
       "      <td>3.500000</td>\n",
       "      <td>1.271627e+09</td>\n",
       "    </tr>\n",
       "    <tr>\n",
       "      <th>75%</th>\n",
       "      <td>150219.250000</td>\n",
       "      <td>44191.000000</td>\n",
       "      <td>4.000000</td>\n",
       "      <td>1.502760e+09</td>\n",
       "    </tr>\n",
       "    <tr>\n",
       "      <th>max</th>\n",
       "      <td>200948.000000</td>\n",
       "      <td>292755.000000</td>\n",
       "      <td>5.000000</td>\n",
       "      <td>1.697164e+09</td>\n",
       "    </tr>\n",
       "  </tbody>\n",
       "</table>\n",
       "</div>"
      ],
      "text/plain": [
       "              userId        movieId         rating     timestamp\n",
       "count  262144.000000  262144.000000  262144.000000  2.621440e+05\n",
       "mean   100180.841484   29166.701164       3.539732  1.274791e+09\n",
       "std     57836.614843   50739.699581       1.059769  2.560741e+08\n",
       "min         9.000000       1.000000       0.500000  8.231852e+08\n",
       "25%     50092.000000    1230.000000       3.000000  1.050949e+09\n",
       "50%    100024.000000    3439.000000       3.500000  1.271627e+09\n",
       "75%    150219.250000   44191.000000       4.000000  1.502760e+09\n",
       "max    200948.000000  292755.000000       5.000000  1.697164e+09"
      ]
     },
     "execution_count": 4,
     "metadata": {},
     "output_type": "execute_result"
    }
   ],
   "source": [
    "ratings.info()\n",
    "ratings.describe()"
   ]
  },
  {
   "cell_type": "code",
   "execution_count": 5,
   "metadata": {},
   "outputs": [
    {
     "name": "stdout",
     "output_type": "stream",
     "text": [
      "Original size: 262,144 ratings\n",
      "Reduced size: 131,072 ratings\n",
      "Users: 70,248, Movies: 12,463\n",
      "SURPRISE dataset recreated with smaller sample\n"
     ]
    }
   ],
   "source": [
    "# Reduce dataset size in memory (Kernel crashed on Macbook M4) \n",
    "print(f\"Original size: {len(ratings):,} ratings\")\n",
    "\n",
    "# Sample down to 128*1024 = 131,072 entries\n",
    "target_size = 128 * 1024\n",
    "ratings = ratings.sample(n=target_size, random_state=42).reset_index(drop=True)\n",
    "\n",
    "print(f\"Reduced size: {len(ratings):,} ratings\")\n",
    "print(f\"Users: {ratings['userId'].nunique():,}, Movies: {ratings['movieId'].nunique():,}\")\n",
    "\n",
    "# Recreate SURPRISE dataset with smaller data\n",
    "reader = Reader(rating_scale=(0.5, 5.0))\n",
    "data = Dataset.load_from_df(ratings[['userId', 'movieId', 'rating']], reader)\n",
    "print(\"SURPRISE dataset recreated with smaller sample\")"
   ]
  },
  {
   "cell_type": "code",
   "execution_count": 6,
   "metadata": {},
   "outputs": [
    {
     "name": "stdout",
     "output_type": "stream",
     "text": [
      "SURPRISE dataset created\n"
     ]
    }
   ],
   "source": [
    "from surprise import Dataset, Reader\n",
    "\n",
    "reader = Reader(rating_scale=(0.5, 5.0))\n",
    "data = Dataset.load_from_df(ratings[['userId', 'movieId', 'rating']], reader)\n",
    "print(\"SURPRISE dataset created\")"
   ]
  },
  {
   "cell_type": "code",
   "execution_count": 7,
   "metadata": {},
   "outputs": [
    {
     "name": "stdout",
     "output_type": "stream",
     "text": [
      "Algorithms defined: ['KNNBasic', 'SVD', 'NMF', 'SlopeOne', 'CoClustering']\n"
     ]
    }
   ],
   "source": [
    "algorithms = {\n",
    "    'KNNBasic': KNNBasic(),\n",
    "    'SVD': SVD(),\n",
    "    'NMF': NMF(),\n",
    "    'SlopeOne': SlopeOne(),\n",
    "    'CoClustering': CoClustering()\n",
    "}\n",
    "print(f\"Algorithms defined: {list(algorithms.keys())}\")"
   ]
  },
  {
   "cell_type": "code",
   "execution_count": 8,
   "metadata": {},
   "outputs": [
    {
     "name": "stdout",
     "output_type": "stream",
     "text": [
      "Running cross-validation...\n",
      "Testing KNNBasic... Computing the msd similarity matrix...\n",
      "Done computing similarity matrix.\n",
      "Computing the msd similarity matrix...\n",
      "Done computing similarity matrix.\n",
      "Computing the msd similarity matrix...\n",
      "Done computing similarity matrix.\n",
      "Computing the msd similarity matrix...\n",
      "Done computing similarity matrix.\n",
      "Computing the msd similarity matrix...\n",
      "Done computing similarity matrix.\n",
      "completed in 182.5 seconds\n",
      "Testing SVD... completed in 4.6 seconds\n",
      "Testing NMF... completed in 15.4 seconds\n",
      "Testing SlopeOne... completed in 4.3 seconds\n",
      "Testing CoClustering... completed in 14.4 seconds\n",
      "Cross-validation complete\n"
     ]
    }
   ],
   "source": [
    "import time\n",
    "\n",
    "print(\"Running cross-validation...\")\n",
    "results = {}\n",
    "times = {}\n",
    "\n",
    "for name, algo in algorithms.items():\n",
    "    print(f\"Testing {name}...\", end=\" \")\n",
    "    \n",
    "    start_time = time.time()\n",
    "    cv_results = cross_validate(algo, data, measures=['MSE'], cv=5, verbose=False)\n",
    "    end_time = time.time()\n",
    "    \n",
    "    results[name] = cv_results['test_mse'].mean()\n",
    "    times[name] = end_time - start_time\n",
    "    \n",
    "    print(f\"completed in {times[name]:.1f} seconds\")\n",
    "\n",
    "print(\"Cross-validation complete\")"
   ]
  },
  {
   "cell_type": "code",
   "execution_count": 9,
   "metadata": {},
   "outputs": [
    {
     "name": "stdout",
     "output_type": "stream",
     "text": [
      "=== ALGORITHM COMPARISON ===\n",
      "Algorithm    MSE      Time (s)\n",
      "------------------------------\n",
      "SVD          0.9401   4.6     \n",
      "KNNBasic     1.1431   182.5   \n",
      "CoClustering 1.2892   14.4    \n",
      "NMF          1.3136   15.4    \n",
      "SlopeOne     1.3331   4.3     \n",
      "\n",
      "Optimal algorithm (MSE): SVD (0.9401)\n",
      "Fastest algorithm: SlopeOne (4.3s)\n"
     ]
    }
   ],
   "source": [
    "print(\"=== ALGORITHM COMPARISON ===\")\n",
    "print(f\"{'Algorithm':<12} {'MSE':<8} {'Time (s)':<8}\")\n",
    "print(\"-\" * 30)\n",
    "\n",
    "for name, mse in sorted(results.items(), key=lambda x: x[1]):\n",
    "    print(f\"{name:<12} {mse:<8.4f} {times[name]:<8.1f}\")\n",
    "\n",
    "best_algo = min(results, key=results.get)\n",
    "fastest_algo = min(times, key=times.get)\n",
    "\n",
    "print(f\"\\nOptimal algorithm (MSE): {best_algo} ({results[best_algo]:.4f})\")\n",
    "print(f\"Fastest algorithm: {fastest_algo} ({times[fastest_algo]:.1f}s)\")"
   ]
  },
  {
   "cell_type": "code",
   "execution_count": 10,
   "metadata": {},
   "outputs": [
    {
     "name": "stdout",
     "output_type": "stream",
     "text": [
      "=== RESULTS SUMMARY ===\n",
      "      Algorithm     MSE  Time (s)\n",
      "0      KNNBasic  1.1431  182.5138\n",
      "1           SVD  0.9401    4.6393\n",
      "2           NMF  1.3136   15.3642\n",
      "3      SlopeOne  1.3331    4.2854\n",
      "4  CoClustering  1.2892   14.4065\n"
     ]
    },
    {
     "data": {
      "image/png": "[encoded data removed]",
      "text/plain": [
       "<Figure size 1000x600 with 2 Axes>"
      ]
     },
     "metadata": {},
     "output_type": "display_data"
    }
   ],
   "source": [
    "import matplotlib.pyplot as plt\n",
    "\n",
    "# Create DataFrame for plotting\n",
    "df_results = pd.DataFrame({\n",
    "    'Algorithm': list(results.keys()),\n",
    "    'MSE': list(results.values()),\n",
    "    'Time (s)': [times[algo] for algo in results.keys()]\n",
    "})\n",
    "\n",
    "print(\"=== RESULTS SUMMARY ===\")\n",
    "print(df_results.round(4))\n",
    "\n",
    "# Visualization\n",
    "fig, ax1 = plt.subplots(figsize=(10, 6))\n",
    "\n",
    "# MSE bars\n",
    "color = 'tab:blue'\n",
    "ax1.set_xlabel('Algorithm')\n",
    "ax1.set_ylabel('Mean Squared Error (MSE)', color=color)\n",
    "bars = ax1.bar(df_results['Algorithm'], df_results['MSE'], color=color, alpha=0.6, label='MSE')\n",
    "ax1.tick_params(axis='y', labelcolor=color)\n",
    "\n",
    "# Add MSE values on bars\n",
    "for i, bar in enumerate(bars):\n",
    "    height = bar.get_height()\n",
    "    ax1.text(bar.get_x() + bar.get_width()/2., height + height*0.01,\n",
    "             f'{height:.4f}', ha='center', va='bottom', fontsize=9)\n",
    "\n",
    "# Time line plot on second y-axis\n",
    "ax2 = ax1.twinx()\n",
    "color = 'tab:red'\n",
    "ax2.set_ylabel('Time (seconds)', color=color)\n",
    "line = ax2.plot(df_results['Algorithm'], df_results['Time (s)'], \n",
    "                color=color, marker='o', linewidth=2, markersize=8, label='Time (s)')\n",
    "ax2.tick_params(axis='y', labelcolor=color)\n",
    "\n",
    "# Add time values on points\n",
    "for i, (algo, time_val) in enumerate(zip(df_results['Algorithm'], df_results['Time (s)'])):\n",
    "    ax2.text(i, time_val + max(df_results['Time (s)'])*0.02, \n",
    "             f'{time_val:.1f}s', ha='center', va='bottom', fontsize=9)\n",
    "\n",
    "plt.title('Algorithm Comparison: MSE vs Computation Time', fontsize=14, fontweight='bold')\n",
    "plt.xticks(rotation=45)\n",
    "fig.tight_layout()\n",
    "\n",
    "# Add legends\n",
    "ax1.legend(loc='upper left')\n",
    "ax2.legend(loc='upper right')\n",
    "\n",
    "plt.show()"
   ]
  },
  {
   "cell_type": "code",
   "execution_count": 11,
   "metadata": {},
   "outputs": [
    {
     "name": "stdout",
     "output_type": "stream",
     "text": [
      "Most rated movies in sample:\n",
      "      movieId                                          title  ratings\n",
      "351       356                            Forrest Gump (1994)      421\n",
      "314       318               Shawshank Redemption, The (1994)      415\n",
      "292       296                            Pulp Fiction (1994)      396\n",
      "2480     2571                             Matrix, The (1999)      387\n",
      "257       260      Star Wars: Episode IV - A New Hope (1977)      375\n",
      "585       593               Silence of the Lambs, The (1991)      366\n",
      "5841     5952  Lord of the Rings: The Two Towers, The (2002)      304\n",
      "475       480                           Jurassic Park (1993)      302\n",
      "2867     2959                              Fight Club (1999)      297\n",
      "581       589              Terminator 2: Judgment Day (1991)      293\n"
     ]
    }
   ],
   "source": [
    "# Most rated movies in our sample\n",
    "movie_counts = ratings['movieId'].value_counts().head(10)\n",
    "popular_movies = movies[movies['movieId'].isin(movie_counts.index)][['movieId', 'title']]\n",
    "popular_movies = popular_movies.merge(movie_counts.to_frame('ratings'), left_on='movieId', right_index=True)\n",
    "print(\"Most rated movies in sample:\")\n",
    "print(popular_movies.sort_values('ratings', ascending=False))"
   ]
  },
  {
   "cell_type": "code",
   "execution_count": 12,
   "metadata": {},
   "outputs": [
    {
     "name": "stdout",
     "output_type": "stream",
     "text": [
      "\n",
      "Sample recommendations for user 53590:\n",
      "Mask of the Avenger (1951): 3.59\n",
      "The Quiet One (2019): 3.59\n",
      "Обмін (2022): 3.59\n",
      "Mystery 101 (2019): 3.59\n",
      "Jungle Captive (1945): 3.59\n"
     ]
    }
   ],
   "source": [
    "# Train best algorithm and show sample predictions\n",
    "best_model = SVD()  # assuming SVD won\n",
    "trainset = data.build_full_trainset()\n",
    "best_model.fit(trainset)\n",
    "\n",
    "# Get sample predictions with movie names\n",
    "sample_user = ratings['userId'].iloc[0]\n",
    "user_items = ratings[ratings['userId'] == sample_user]['movieId'].values\n",
    "unrated_items = movies[~movies['movieId'].isin(user_items)]['movieId'].sample(5)\n",
    "\n",
    "print(f\"\\nSample recommendations for user {sample_user}:\")\n",
    "for item in unrated_items:\n",
    "    pred = best_model.predict(sample_user, item)\n",
    "    movie_name = movies[movies['movieId'] == item]['title'].iloc[0]\n",
    "    print(f\"{movie_name}: {pred.est:.2f}\")"
   ]
  },
  {
   "cell_type": "code",
   "execution_count": 13,
   "metadata": {},
   "outputs": [
    {
     "name": "stdout",
     "output_type": "stream",
     "text": [
      "Tuning SVD...\n",
      "Best MSE: 0.9298, Time: 18.2s\n",
      "Tuning NMF...\n",
      "Best MSE: 1.2472, Time: 65.4s\n",
      "Tuning KNNBasic...\n",
      "Computing the cosine similarity matrix...\n",
      "Done computing similarity matrix.\n",
      "Computing the cosine similarity matrix...\n",
      "Done computing similarity matrix.\n",
      "Computing the cosine similarity matrix...\n",
      "Done computing similarity matrix.\n",
      "Computing the cosine similarity matrix...\n",
      "Done computing similarity matrix.\n",
      "Computing the cosine similarity matrix...\n",
      "Done computing similarity matrix.\n",
      "Computing the cosine similarity matrix...\n",
      "Done computing similarity matrix.\n",
      "Computing the cosine similarity matrix...\n",
      "Done computing similarity matrix.\n",
      "Computing the cosine similarity matrix...\n",
      "Done computing similarity matrix.\n",
      "Computing the cosine similarity matrix...\n",
      "Done computing similarity matrix.\n",
      "Computing the msd similarity matrix...\n",
      "Done computing similarity matrix.\n",
      "Computing the msd similarity matrix...\n",
      "Done computing similarity matrix.\n",
      "Computing the msd similarity matrix...\n",
      "Done computing similarity matrix.\n",
      "Computing the msd similarity matrix...\n",
      "Done computing similarity matrix.\n",
      "Computing the msd similarity matrix...\n",
      "Done computing similarity matrix.\n",
      "Computing the msd similarity matrix...\n",
      "Done computing similarity matrix.\n",
      "Computing the cosine similarity matrix...\n",
      "Done computing similarity matrix.\n",
      "Computing the cosine similarity matrix...\n",
      "Done computing similarity matrix.\n",
      "Computing the cosine similarity matrix...\n",
      "Done computing similarity matrix.\n",
      "Computing the cosine similarity matrix...\n",
      "Done computing similarity matrix.\n",
      "Computing the cosine similarity matrix...\n",
      "Done computing similarity matrix.\n",
      "Computing the cosine similarity matrix...\n",
      "Done computing similarity matrix.\n",
      "Computing the msd similarity matrix...\n",
      "Done computing similarity matrix.\n",
      "Computing the msd similarity matrix...\n",
      "Done computing similarity matrix.\n",
      "Computing the msd similarity matrix...\n",
      "Done computing similarity matrix.\n",
      "Computing the cosine similarity matrix...\n",
      "Done computing similarity matrix.\n",
      "Computing the cosine similarity matrix...\n",
      "Done computing similarity matrix.\n",
      "Computing the cosine similarity matrix...\n",
      "Done computing similarity matrix.\n",
      "Computing the cosine similarity matrix...\n",
      "Done computing similarity matrix.\n",
      "Computing the cosine similarity matrix...\n",
      "Done computing similarity matrix.\n",
      "Computing the cosine similarity matrix...\n",
      "Done computing similarity matrix.\n",
      "Best MSE: 1.1318, Time: 701.5s\n",
      "Tuning CoClustering...\n",
      "Best MSE: 1.2761, Time: 114.4s\n"
     ]
    }
   ],
   "source": [
    "from surprise.model_selection import RandomizedSearchCV\n",
    "from scipy.stats import randint, uniform\n",
    "\n",
    "# Parameter grids (reasonable for 128K data)\n",
    "param_grids = {\n",
    "    'SVD': {\n",
    "        'n_factors': randint(50, 100),\n",
    "        'n_epochs': randint(15, 25), \n",
    "        'lr_all': uniform(0.005, 0.01),\n",
    "        'reg_all': uniform(0.02, 0.05)\n",
    "    },\n",
    "    'NMF': {\n",
    "        'n_factors': randint(15, 40),\n",
    "        'n_epochs': randint(20, 40)\n",
    "    },\n",
    "    'KNNBasic': {\n",
    "        'k': randint(20, 50),\n",
    "        'sim_options': {'name': ['msd', 'cosine'], 'user_based': [True, False]}\n",
    "    },\n",
    "    'CoClustering': {\n",
    "        'n_cltr_u': randint(3, 8),\n",
    "        'n_cltr_i': randint(3, 8)\n",
    "    }\n",
    "}\n",
    "\n",
    "# Hyperparameter search with timing\n",
    "tuned_algos = {}\n",
    "search_times = {}\n",
    "\n",
    "for name, params in param_grids.items():\n",
    "    print(f\"Tuning {name}...\")\n",
    "    start = time.time()\n",
    "    rs = RandomizedSearchCV(algorithms[name].__class__, params, \n",
    "                           measures=['mse'], cv=3, n_iter=10, random_state=42)\n",
    "    rs.fit(data)\n",
    "    search_times[name] = time.time() - start\n",
    "    tuned_algos[name] = rs.best_estimator['mse']\n",
    "    print(f\"Best MSE: {rs.best_score['mse']:.4f}, Time: {search_times[name]:.1f}s\")\n",
    "\n",
    "# Add SlopeOne (no tuning needed)\n",
    "tuned_algos['SlopeOne'] = SlopeOne()\n",
    "search_times['SlopeOne'] = 0"
   ]
  },
  {
   "cell_type": "code",
   "execution_count": 17,
   "metadata": {},
   "outputs": [
    {
     "name": "stdout",
     "output_type": "stream",
     "text": [
      "Evaluating tuned algorithms...\n",
      "Final evaluation of SVD...\n",
      "Final evaluation of NMF...\n",
      "Final evaluation of KNNBasic...\n",
      "Computing the msd similarity matrix...\n",
      "Done computing similarity matrix.\n",
      "Computing the msd similarity matrix...\n",
      "Done computing similarity matrix.\n",
      "Computing the msd similarity matrix...\n",
      "Done computing similarity matrix.\n",
      "Computing the msd similarity matrix...\n",
      "Done computing similarity matrix.\n",
      "Computing the msd similarity matrix...\n",
      "Done computing similarity matrix.\n",
      "Final evaluation of CoClustering...\n",
      "Final evaluation of SlopeOne...\n",
      "=== FINAL RESULTS ===\n",
      "      Algorithm  Final MSE  Search Time (s)  Fit Time (s)  Test Time (s)\n",
      "0           SVD      0.921           18.155         2.675          0.289\n",
      "1           NMF      1.242           65.447        14.164          0.568\n",
      "2      KNNBasic      1.141          701.459         1.986          0.524\n",
      "3  CoClustering      1.293          114.371        15.390          0.262\n",
      "4      SlopeOne      1.328            0.000         2.815          0.436\n"
     ]
    },
    {
     "data": {
      "image/png": "[encoded data removed]",
      "text/plain": [
       "<Figure size 1500x600 with 2 Axes>"
      ]
     },
     "metadata": {},
     "output_type": "display_data"
    },
    {
     "name": "stdout",
     "output_type": "stream",
     "text": [
      "\n",
      " OPTIMAL ALGORITHM: SVD\n",
      "   MSE: 0.9211\n",
      "   Total Time: 20.8s\n"
     ]
    }
   ],
   "source": [
    "# First, evaluate the tuned algorithms with cross-validation\n",
    "print(\"Evaluating tuned algorithms...\")\n",
    "final_results = {}\n",
    "final_fit_times = {}\n",
    "final_test_times = {}\n",
    "\n",
    "for name, algo in tuned_algos.items():\n",
    "    print(f\"Final evaluation of {name}...\")\n",
    "    cv_results = cross_validate(algo, data, measures=['MSE'], cv=5, verbose=False)\n",
    "    \n",
    "    final_results[name] = cv_results['test_mse'].mean()\n",
    "    final_fit_times[name] = sum(cv_results['fit_time'])\n",
    "    final_test_times[name] = sum(cv_results['test_time'])\n",
    "\n",
    "# Create comprehensive DataFrame\n",
    "df_results = pd.DataFrame({\n",
    "    'Algorithm': list(final_results.keys()),\n",
    "    'Final MSE': list(final_results.values()),\n",
    "    'Search Time (s)': [search_times[algo] for algo in final_results.keys()],\n",
    "    'Fit Time (s)': [final_fit_times[algo] for algo in final_results.keys()],\n",
    "    'Test Time (s)': [final_test_times[algo] for algo in final_results.keys()]\n",
    "})\n",
    "\n",
    "print(\"=== FINAL RESULTS ===\")\n",
    "print(df_results.round(3))\n",
    "\n",
    "# Enhanced visualization\n",
    "fig, (ax1, ax2) = plt.subplots(1, 2, figsize=(15, 6))\n",
    "\n",
    "# Plot 1: MSE comparison\n",
    "ax1.bar(df_results['Algorithm'], df_results['Final MSE'], color='skyblue', alpha=0.7, edgecolor='navy')\n",
    "ax1.set_ylabel('Mean Squared Error (MSE)')\n",
    "ax1.set_title('Algorithm Performance (Lower is Better)')\n",
    "ax1.tick_params(axis='x', rotation=45)\n",
    "\n",
    "# Add MSE values on bars\n",
    "for i, (algo, mse) in enumerate(zip(df_results['Algorithm'], df_results['Final MSE'])):\n",
    "    ax1.text(i, mse + mse*0.01, f'{mse:.4f}', ha='center', va='bottom', fontsize=9)\n",
    "\n",
    "# Plot 2: Timing comparison\n",
    "width = 0.25\n",
    "x = range(len(df_results))\n",
    "\n",
    "ax2.bar([i-width for i in x], df_results['Search Time (s)'], width, label='Search Time', color='orange', alpha=0.7)\n",
    "ax2.bar(x, df_results['Fit Time (s)'], width, label='Fit Time', color='green', alpha=0.7)\n",
    "ax2.bar([i+width for i in x], df_results['Test Time (s)'], width, label='Test Time', color='red', alpha=0.7)\n",
    "\n",
    "ax2.set_ylabel('Time (seconds)')\n",
    "ax2.set_title('Computation Time Breakdown')\n",
    "ax2.set_xticks(x)\n",
    "ax2.set_xticklabels(df_results['Algorithm'], rotation=45)\n",
    "ax2.legend()\n",
    "\n",
    "plt.tight_layout()\n",
    "plt.show()\n",
    "\n",
    "# Find optimal algorithm\n",
    "best_algo = df_results.loc[df_results['Final MSE'].idxmin()]\n",
    "print(f\"\\n OPTIMAL ALGORITHM: {best_algo['Algorithm']}\")\n",
    "print(f\"   MSE: {best_algo['Final MSE']:.4f}\")\n",
    "print(f\"   Total Time: {best_algo['Search Time (s)'] + best_algo['Fit Time (s)']:.1f}s\")"
   ]
  },
  {
   "cell_type": "code",
   "execution_count": null,
   "metadata": {},
   "outputs": [],
   "source": []
  }
 ],
 "metadata": {
  "kernelspec": {
   "display_name": "Python 3 (ipykernel)",
   "language": "python",
   "name": "python3"
  },
  "language_info": {
   "codemirror_mode": {
    "name": "ipython",
    "version": 3
   },
   "file_extension": ".py",
   "mimetype": "text/x-python",
   "name": "python",
   "nbconvert_exporter": "python",
   "pygments_lexer": "ipython3",
   "version": "3.10.18"
  }
 },
 "nbformat": 4,
 "nbformat_minor": 4
}
