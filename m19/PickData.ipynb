{
 "cells": [
  {
   "cell_type": "markdown",
   "id": "2b45e917-95c0-4060-bc27-6b526201da6c",
   "metadata": {},
   "source": [
    "Reduce size of data... \n",
    "Data Source: https://files.grouplens.org/datasets/movielens/ml-32m.zip\n",
    "\n",
    "READ in 32 million entries and randomly pick 256K of them "
   ]
  },
  {
   "cell_type": "code",
   "execution_count": 2,
   "id": "acb3781e-0659-4625-868b-8c92d0f8b23d",
   "metadata": {},
   "outputs": [
    {
     "name": "stdout",
     "output_type": "stream",
     "text": [
      "Reading ratings data...\n",
      "Original dataset shape: (32000204, 4)\n",
      "Users: 200948\n",
      "Movies: 84432\n",
      "Total ratings: 32000204\n",
      "\n",
      "Sampling 262,144 entries...\n",
      "\n",
      "Sample dataset shape: (262144, 4)\n",
      "Sample users: 102430\n",
      "Sample movies: 16462\n",
      "Rating distribution:\n",
      "rating\n",
      "0.5     4343\n",
      "1.0     7883\n",
      "1.5     4326\n",
      "2.0    16357\n",
      "2.5    13850\n",
      "3.0    49698\n",
      "3.5    35177\n",
      "4.0    68521\n",
      "4.5    24411\n",
      "5.0    37578\n",
      "Name: count, dtype: int64\n",
      "\n",
      "Sample saved to: data/ratings-256k.csv\n",
      "\n",
      "First 5 rows of sample:\n",
      "          userId  movieId  rating   timestamp\n",
      "10685861   66954      781     5.0   850944577\n",
      "1552723     9877      574     4.0   945495614\n",
      "6145184    38348     1088     2.0   999974867\n",
      "16268584  101952     2706     1.0  1203077565\n",
      "22418634  140400   275079     3.5  1653782463\n"
     ]
    }
   ],
   "source": [
    "import pandas as pd\n",
    "import numpy as np\n",
    "\n",
    "# Set random seed for reproducibility\n",
    "np.random.seed(42)\n",
    "\n",
    "# Read the large ratings file\n",
    "print(\"Reading ratings data...\")\n",
    "ratings_full = pd.read_csv('data/ml-32m/ratings.csv')\n",
    "\n",
    "print(f\"Original dataset shape: {ratings_full.shape}\")\n",
    "print(f\"Users: {ratings_full['userId'].nunique()}\")\n",
    "print(f\"Movies: {ratings_full['movieId'].nunique()}\")\n",
    "print(f\"Total ratings: {len(ratings_full)}\")\n",
    "\n",
    "# Randomly sample 256K entries\n",
    "sample_size = 262144\n",
    "print(f\"\\nSampling {sample_size:,} entries...\")\n",
    "\n",
    "ratings_sample = ratings_full.sample(n=sample_size, random_state=42)\n",
    "\n",
    "# Check sample statistics\n",
    "print(f\"\\nSample dataset shape: {ratings_sample.shape}\")\n",
    "print(f\"Sample users: {ratings_sample['userId'].nunique()}\")\n",
    "print(f\"Sample movies: {ratings_sample['movieId'].nunique()}\")\n",
    "print(f\"Rating distribution:\")\n",
    "print(ratings_sample['rating'].value_counts().sort_index())\n",
    "\n",
    "# Save to new file\n",
    "output_path = 'data/ratings-256k.csv'\n",
    "ratings_sample.to_csv(output_path, index=False)\n",
    "print(f\"\\nSample saved to: {output_path}\")\n",
    "\n",
    "# Display first few rows\n",
    "print(f\"\\nFirst 5 rows of sample:\")\n",
    "print(ratings_sample.head())\n"
   ]
  },
  {
   "cell_type": "code",
   "execution_count": null,
   "id": "868c2299-bb57-455e-90c1-e602573788c4",
   "metadata": {},
   "outputs": [],
   "source": []
  }
 ],
 "metadata": {
  "kernelspec": {
   "display_name": "Python 3 (ipykernel)",
   "language": "python",
   "name": "python3"
  },
  "language_info": {
   "codemirror_mode": {
    "name": "ipython",
    "version": 3
   },
   "file_extension": ".py",
   "mimetype": "text/x-python",
   "name": "python",
   "nbconvert_exporter": "python",
   "pygments_lexer": "ipython3",
   "version": "3.10.18"
  }
 },
 "nbformat": 4,
 "nbformat_minor": 5
}
